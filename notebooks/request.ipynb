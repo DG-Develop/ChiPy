{
 "cells": [
  {
   "cell_type": "code",
   "execution_count": 1,
   "metadata": {},
   "outputs": [],
   "source": [
    "import requests"
   ]
  },
  {
   "cell_type": "code",
   "execution_count": null,
   "metadata": {},
   "outputs": [],
   "source": [
    "header = {\n",
    "    \"user-agent\": \"Mozilla/5.0 (Windows NT 10.0; Win64; x64) AppleWebKit/537.36 (KHTML, like Gecko) Chrome/74.0.3729.169 Safari/537.36\" ,\n",
    "    'referer':'https://www.google.com/'\n",
    "}\n",
    "\n",
    "r = requests.get(\"http://webcache.googleusercontent.com/search?q=cache:www.naukri.com/jobs-in-andhra-pradesh\",headers=header)\n",
    "\n",
    "print(r.content)"
   ]
  },
  {
   "cell_type": "code",
   "execution_count": 4,
   "metadata": {},
   "outputs": [
    {
     "name": "stdout",
     "output_type": "stream",
     "text": [
      "b')]}\\'\\n[\"rresp\",null,null,null,null,null,1]'\n"
     ]
    }
   ],
   "source": [
    "\n",
    "\n",
    "r = requests.post(\"https://www.google.com/recaptcha/api2/reload?k=6LdJssgUAAAAAKkVr-Aj-xP5QQzclPeGZmhRwXeY\")\n",
    "\n",
    "print(r.content)"
   ]
  }
 ],
 "metadata": {
  "kernelspec": {
   "display_name": "Python 3.10.7 ('env': venv)",
   "language": "python",
   "name": "python3"
  },
  "language_info": {
   "codemirror_mode": {
    "name": "ipython",
    "version": 3
   },
   "file_extension": ".py",
   "mimetype": "text/x-python",
   "name": "python",
   "nbconvert_exporter": "python",
   "pygments_lexer": "ipython3",
   "version": "3.10.7 (tags/v3.10.7:6cc6b13, Sep  5 2022, 14:08:36) [MSC v.1933 64 bit (AMD64)]"
  },
  "orig_nbformat": 4,
  "vscode": {
   "interpreter": {
    "hash": "dcbf5b286fc65fa3a5e9d2d3e3854211222f799165bd7155c3b2047a59b690af"
   }
  }
 },
 "nbformat": 4,
 "nbformat_minor": 2
}
